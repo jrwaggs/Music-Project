{
 "cells": [
  {
   "cell_type": "code",
   "execution_count": 43,
   "metadata": {},
   "outputs": [],
   "source": [
    "import music_graph as mg    # contains all necessary functions, data and dependencies\n",
    "\n",
    "from music_graph import artist_dictionary\n",
    "from music_graph import tags_dictionary\n",
    "from music_graph import filtered_tags_dictionary\n",
    "from music_graph import ratings\n",
    "from music_graph import build_net\n",
    "from music_graph import layer_graphs\n",
    "from music_graph import new_centrality\n",
    "from music_graph import spotify_rankings\n",
    "\n",
    "import configparser\n",
    "import spotipy\n",
    "from spotipy.oauth2 import SpotifyClientCredentials\n",
    "import pandas as pd\n",
    "import numpy as np\n",
    "from matplotlib import pyplot as plt\n",
    "import seaborn as sns\n",
    "from collections import Counter\n",
    "\n",
    "# Spotify client id & secret for API access\n",
    "\n",
    "config = configparser.ConfigParser()\n",
    "config.read('spotify.ini')\n",
    "\n",
    "client_id = config['spotify']['client_id']\n",
    "client_secret = config['spotify']['client_secret']"
   ]
  },
  {
   "cell_type": "code",
   "execution_count": 44,
   "metadata": {},
   "outputs": [],
   "source": [
    "# manually pulling random user-created playlists from spotify\n",
    "\n",
    "playlists = {\n",
    "'4C9mWYjVobPsfFXesGxYNf':'all classic hits', ### $$$\n",
    "#'5TF1ki4BzMFfotw57juFTY':'coffee shop mix',\n",
    "'3pM6OEFeTo4L1yd4eRltjL':'2004 hits', ### $$$\n",
    "'73gFKr9Moh1T3jXM8TVSdC':'80s summer mix',\n",
    "'17xTDziQjqAZANvg6C6FlX':'songs from your old ipod',\n",
    "'6j3URIMhpf62LXpDcbi98b':'rap playlists',\n",
    "#'1DcX9eK1MaPlwwBIsEfnBX':'country playlist to end all playlists',\n",
    "#'5VhEpH7stoZiX4v8gIb77P':'playlists',\n",
    "'37i9dQZF1DWXRqgorJj26U':'rock classics', ### $$$\n",
    "'37i9dQZF1DWWJOmJ7nRx0C':'rock hard',  ### $$$\n",
    "'37i9dQZF1DWWRktbhJiuqL':'pure rock n roll', ### $$$\n",
    "'37i9dQZF1DX5W4wuxak2hE':'power pop', ###\n",
    "'7Jfcy1H82lsTIzhpL4MZXu':'punk playlist', ### $$$\n",
    "'07jaITMGGL6QYmT8yZVxQt':'metal playlist'\n",
    "}  "
   ]
  },
  {
   "cell_type": "code",
   "execution_count": 45,
   "metadata": {},
   "outputs": [
    {
     "name": "stdout",
     "output_type": "stream",
     "text": [
      "180  unique artists\n",
      "200  total artists\n"
     ]
    }
   ],
   "source": [
    "\"\"\"\n",
    "Request tracks from a playlist in Spotify\n",
    "Then pull artist out of the track container.\n",
    "\"\"\"\n",
    "url = 'https://open.spotify.com/playlist'\n",
    "sp = spotipy.Spotify(client_credentials_manager=SpotifyClientCredentials(client_id, client_secret))\n",
    "\n",
    "playlistid = '7Jfcy1H82lsTIzhpL4MZXu'\n",
    "playlist_name = playlists[playlistid]\n",
    "\n",
    "# playlists with more than 100 artists will require two requests\n",
    "playlist1 = sp.playlist_tracks(playlistid, offset = 0, limit = 100) # get the first 100 tracks\n",
    "playlist2 = sp.playlist_tracks(playlistid, offset = 100, limit = 100) # get the next 100 tracks\n",
    "\n",
    "artists = []\n",
    "\n",
    "for index, item in enumerate(playlist1['items']):\n",
    "    artists.append(item['track']['album']['artists'][0]['name'])\n",
    "    \n",
    "for index, item in enumerate(playlist2['items']):\n",
    "    artists.append(item['track']['album']['artists'][0]['name'])\n",
    "    \n",
    "artists = [i.lower() for i in artists]\n",
    "\n",
    "num_artists = len(set(artists))      # number of unique artists in the playlist\n",
    "\n",
    "# a quick check on the number of artists to make sure we retrieved all artists\n",
    "print(len(set(artists)), ' unique artists')\n",
    "print(len((artists)), ' total artists') "
   ]
  },
  {
   "cell_type": "code",
   "execution_count": 46,
   "metadata": {},
   "outputs": [
    {
     "data": {
      "image/png": "[encoded data removed]",
      "text/plain": [
       "<Figure size 720x720 with 1 Axes>"
      ]
     },
     "metadata": {
      "needs_background": "light"
     },
     "output_type": "display_data"
    }
   ],
   "source": [
    "#Spotify stream counts for the top 10k artists\n",
    "plt.figure(figsize = (10,10))\n",
    "sns.lineplot(x = 'Pos',\n",
    "            y = 'streams',\n",
    "            data = spotify_rankings)\n",
    "plt.ylabel('Stream Count (Millions)')\n",
    "plt.xlabel('Rank')\n",
    "plt.title('Spotify streams by rank - Top 10k artists')\n",
    "plt.show()"
   ]
  },
  {
   "cell_type": "code",
   "execution_count": 47,
   "metadata": {},
   "outputs": [
    {
     "data": {
      "text/html": [
       "<div>\n",
       "<style scoped>\n",
       "    .dataframe tbody tr th:only-of-type {\n",
       "        vertical-align: middle;\n",
       "    }\n",
       "\n",
       "    .dataframe tbody tr th {\n",
       "        vertical-align: top;\n",
       "    }\n",
       "\n",
       "    .dataframe thead th {\n",
       "        text-align: right;\n",
       "    }\n",
       "</style>\n",
       "<table border=\"1\" class=\"dataframe\">\n",
       "  <thead>\n",
       "    <tr style=\"text-align: right;\">\n",
       "      <th></th>\n",
       "      <th>artist_id</th>\n",
       "      <th>artist_name</th>\n",
       "      <th>mean_rating</th>\n",
       "      <th>median_rating</th>\n",
       "      <th>yahoo_rating_count</th>\n",
       "      <th>mean_rank</th>\n",
       "      <th>count_rank</th>\n",
       "      <th>median_rank</th>\n",
       "      <th>artist</th>\n",
       "    </tr>\n",
       "  </thead>\n",
       "  <tbody>\n",
       "    <tr>\n",
       "      <td>0</td>\n",
       "      <td>1099349</td>\n",
       "      <td>Zane</td>\n",
       "      <td>76.334648</td>\n",
       "      <td>100.0</td>\n",
       "      <td>2029.0</td>\n",
       "      <td>1830</td>\n",
       "      <td>5038</td>\n",
       "      <td>1</td>\n",
       "      <td>zane</td>\n",
       "    </tr>\n",
       "    <tr>\n",
       "      <td>1</td>\n",
       "      <td>1026379</td>\n",
       "      <td>T-Boz</td>\n",
       "      <td>87.134254</td>\n",
       "      <td>100.0</td>\n",
       "      <td>1810.0</td>\n",
       "      <td>49</td>\n",
       "      <td>5369</td>\n",
       "      <td>2</td>\n",
       "      <td>t-boz</td>\n",
       "    </tr>\n",
       "    <tr>\n",
       "      <td>2</td>\n",
       "      <td>1098197</td>\n",
       "      <td>The Hamptons</td>\n",
       "      <td>81.950503</td>\n",
       "      <td>100.0</td>\n",
       "      <td>1293.0</td>\n",
       "      <td>495</td>\n",
       "      <td>6240</td>\n",
       "      <td>3</td>\n",
       "      <td>the hamptons</td>\n",
       "    </tr>\n",
       "    <tr>\n",
       "      <td>3</td>\n",
       "      <td>1034812</td>\n",
       "      <td>Imajin</td>\n",
       "      <td>83.230596</td>\n",
       "      <td>100.0</td>\n",
       "      <td>889.0</td>\n",
       "      <td>322</td>\n",
       "      <td>7214</td>\n",
       "      <td>4</td>\n",
       "      <td>imajin</td>\n",
       "    </tr>\n",
       "    <tr>\n",
       "      <td>4</td>\n",
       "      <td>1097148</td>\n",
       "      <td>Mr. C The Slide Man</td>\n",
       "      <td>85.942904</td>\n",
       "      <td>100.0</td>\n",
       "      <td>613.0</td>\n",
       "      <td>105</td>\n",
       "      <td>7843</td>\n",
       "      <td>5</td>\n",
       "      <td>mr. c the slide man</td>\n",
       "    </tr>\n",
       "  </tbody>\n",
       "</table>\n",
       "</div>"
      ],
      "text/plain": [
       "   artist_id          artist_name  mean_rating  median_rating  \\\n",
       "0    1099349                 Zane    76.334648          100.0   \n",
       "1    1026379                T-Boz    87.134254          100.0   \n",
       "2    1098197         The Hamptons    81.950503          100.0   \n",
       "3    1034812               Imajin    83.230596          100.0   \n",
       "4    1097148  Mr. C The Slide Man    85.942904          100.0   \n",
       "\n",
       "   yahoo_rating_count  mean_rank  count_rank  median_rank               artist  \n",
       "0              2029.0       1830        5038            1                 zane  \n",
       "1              1810.0         49        5369            2                t-boz  \n",
       "2              1293.0        495        6240            3         the hamptons  \n",
       "3               889.0        322        7214            4               imajin  \n",
       "4               613.0        105        7843            5  mr. c the slide man  "
      ]
     },
     "execution_count": 47,
     "metadata": {},
     "output_type": "execute_result"
    }
   ],
   "source": [
    "ratings.head()"
   ]
  },
  {
   "cell_type": "code",
   "execution_count": 48,
   "metadata": {},
   "outputs": [
    {
     "data": {
      "image/png": "[encoded data removed]",
      "text/plain": [
       "<Figure size 720x720 with 1 Axes>"
      ]
     },
     "metadata": {
      "needs_background": "light"
     },
     "output_type": "display_data"
    }
   ],
   "source": [
    "# distribution of Yahoo! artist ratings\n",
    "plt.figure(figsize = (10,10))\n",
    "sns.lineplot(x = 'count_rank',\n",
    "            y = 'yahoo_rating_count',\n",
    "            data = ratings)\n",
    "plt.ylabel('Yahoo! Rating Copunt')\n",
    "plt.xlabel('Rank')\n",
    "plt.title('Yahoo! Ratings Count.')\n",
    "plt.show()"
   ]
  },
  {
   "cell_type": "code",
   "execution_count": 49,
   "metadata": {},
   "outputs": [
    {
     "data": {
      "text/html": [
       "<div>\n",
       "<style scoped>\n",
       "    .dataframe tbody tr th:only-of-type {\n",
       "        vertical-align: middle;\n",
       "    }\n",
       "\n",
       "    .dataframe tbody tr th {\n",
       "        vertical-align: top;\n",
       "    }\n",
       "\n",
       "    .dataframe thead th {\n",
       "        text-align: right;\n",
       "    }\n",
       "</style>\n",
       "<table border=\"1\" class=\"dataframe\">\n",
       "  <thead>\n",
       "    <tr style=\"text-align: right;\">\n",
       "      <th></th>\n",
       "      <th>artist_id</th>\n",
       "      <th>artist_name</th>\n",
       "      <th>mean_rating</th>\n",
       "      <th>median_rating</th>\n",
       "      <th>yahoo_rating_count</th>\n",
       "      <th>mean_rank</th>\n",
       "      <th>count_rank</th>\n",
       "      <th>median_rank</th>\n",
       "      <th>artist</th>\n",
       "    </tr>\n",
       "  </thead>\n",
       "  <tbody>\n",
       "    <tr>\n",
       "      <td>1370</td>\n",
       "      <td>1028125</td>\n",
       "      <td>Various Artists</td>\n",
       "      <td>63.223988</td>\n",
       "      <td>90.0</td>\n",
       "      <td>692.0</td>\n",
       "      <td>9168</td>\n",
       "      <td>7671</td>\n",
       "      <td>1371</td>\n",
       "      <td>various artists</td>\n",
       "    </tr>\n",
       "    <tr>\n",
       "      <td>1454</td>\n",
       "      <td>1003444</td>\n",
       "      <td>The Boys</td>\n",
       "      <td>79.454082</td>\n",
       "      <td>90.0</td>\n",
       "      <td>392.0</td>\n",
       "      <td>982</td>\n",
       "      <td>8368</td>\n",
       "      <td>1455</td>\n",
       "      <td>the boys</td>\n",
       "    </tr>\n",
       "    <tr>\n",
       "      <td>1462</td>\n",
       "      <td>1032630</td>\n",
       "      <td>Death</td>\n",
       "      <td>77.863517</td>\n",
       "      <td>90.0</td>\n",
       "      <td>381.0</td>\n",
       "      <td>1391</td>\n",
       "      <td>8399</td>\n",
       "      <td>1463</td>\n",
       "      <td>death</td>\n",
       "    </tr>\n",
       "    <tr>\n",
       "      <td>1802</td>\n",
       "      <td>1022172</td>\n",
       "      <td>Reagan Youth</td>\n",
       "      <td>73.658385</td>\n",
       "      <td>90.0</td>\n",
       "      <td>161.0</td>\n",
       "      <td>2906</td>\n",
       "      <td>9692</td>\n",
       "      <td>1803</td>\n",
       "      <td>reagan youth</td>\n",
       "    </tr>\n",
       "    <tr>\n",
       "      <td>2146</td>\n",
       "      <td>1036788</td>\n",
       "      <td>X</td>\n",
       "      <td>74.701031</td>\n",
       "      <td>90.0</td>\n",
       "      <td>97.0</td>\n",
       "      <td>2473</td>\n",
       "      <td>10756</td>\n",
       "      <td>2147</td>\n",
       "      <td>x</td>\n",
       "    </tr>\n",
       "  </tbody>\n",
       "</table>\n",
       "</div>"
      ],
      "text/plain": [
       "      artist_id      artist_name  mean_rating  median_rating  \\\n",
       "1370    1028125  Various Artists    63.223988           90.0   \n",
       "1454    1003444         The Boys    79.454082           90.0   \n",
       "1462    1032630            Death    77.863517           90.0   \n",
       "1802    1022172     Reagan Youth    73.658385           90.0   \n",
       "2146    1036788                X    74.701031           90.0   \n",
       "\n",
       "      yahoo_rating_count  mean_rank  count_rank  median_rank           artist  \n",
       "1370               692.0       9168        7671         1371  various artists  \n",
       "1454               392.0        982        8368         1455         the boys  \n",
       "1462               381.0       1391        8399         1463            death  \n",
       "1802               161.0       2906        9692         1803     reagan youth  \n",
       "2146                97.0       2473       10756         2147                x  "
      ]
     },
     "execution_count": 49,
     "metadata": {},
     "output_type": "execute_result"
    }
   ],
   "source": [
    "playlist_artists = ratings[ratings['artist'].isin(artists)]   #Yahoo! ratings data\n",
    "playlist_artists.head()"
   ]
  },
  {
   "cell_type": "code",
   "execution_count": 50,
   "metadata": {},
   "outputs": [
    {
     "name": "stdout",
     "output_type": "stream",
     "text": [
      "reagan youth  not in artist_dictionary\n",
      "u.k. subs  not in artist_dictionary\n"
     ]
    }
   ],
   "source": [
    "# select 10 random artists a build a multigraph\n",
    "rand_artist_count = 0\n",
    "rand_artists = []\n",
    "while rand_artist_count < 10:\n",
    "    rand = np.random.randint(0,num_artists,1)\n",
    "    rand = rand[0]\n",
    "    if artists[rand] not in rand_artists: #and artists[rand] not in ['mumford & sons','bløf','lil jon & the east side boyz']:\n",
    "        rand_artists.append(artists[rand].lower())\n",
    "        rand_artist_count +=1\n",
    "\n",
    "multigraph = layer_graphs(rand_artists, add_tags = True, size = 75) # node count of each graph\n",
    "\n",
    "scores = new_centrality(multigraph)\n",
    "\n",
    "scores.sort_values(by = ['page_rank'],\n",
    "                   ascending = False,\n",
    "                   inplace = True)\n",
    "topN = list(scores['artist'].iloc[:num_artists])\n",
    "\n",
    "\n",
    "#graph_artists = spotify_rankings[spotify_rankings['Artist'].isin(topN)]\n",
    "\n",
    "graph_artists = ratings[ratings['artist'].isin(topN)]"
   ]
  },
  {
   "cell_type": "code",
   "execution_count": 51,
   "metadata": {},
   "outputs": [
    {
     "data": {
      "text/html": [
       "<div>\n",
       "<style scoped>\n",
       "    .dataframe tbody tr th:only-of-type {\n",
       "        vertical-align: middle;\n",
       "    }\n",
       "\n",
       "    .dataframe tbody tr th {\n",
       "        vertical-align: top;\n",
       "    }\n",
       "\n",
       "    .dataframe thead th {\n",
       "        text-align: right;\n",
       "    }\n",
       "</style>\n",
       "<table border=\"1\" class=\"dataframe\">\n",
       "  <thead>\n",
       "    <tr style=\"text-align: right;\">\n",
       "      <th></th>\n",
       "      <th>artist_id</th>\n",
       "      <th>artist_name</th>\n",
       "      <th>mean_rating</th>\n",
       "      <th>median_rating</th>\n",
       "      <th>yahoo_rating_count</th>\n",
       "      <th>mean_rank</th>\n",
       "      <th>count_rank</th>\n",
       "      <th>median_rank</th>\n",
       "      <th>artist</th>\n",
       "    </tr>\n",
       "  </thead>\n",
       "  <tbody>\n",
       "    <tr>\n",
       "      <td>1027</td>\n",
       "      <td>1022226</td>\n",
       "      <td>Red Hot Chili Peppers</td>\n",
       "      <td>65.388488</td>\n",
       "      <td>90.0</td>\n",
       "      <td>573392.0</td>\n",
       "      <td>7579</td>\n",
       "      <td>3</td>\n",
       "      <td>1028</td>\n",
       "      <td>red hot chili peppers</td>\n",
       "    </tr>\n",
       "    <tr>\n",
       "      <td>1046</td>\n",
       "      <td>1019857</td>\n",
       "      <td>The Offspring</td>\n",
       "      <td>65.131460</td>\n",
       "      <td>90.0</td>\n",
       "      <td>360909.0</td>\n",
       "      <td>7716</td>\n",
       "      <td>35</td>\n",
       "      <td>1047</td>\n",
       "      <td>the offspring</td>\n",
       "    </tr>\n",
       "    <tr>\n",
       "      <td>1085</td>\n",
       "      <td>1020778</td>\n",
       "      <td>Pearl Jam</td>\n",
       "      <td>67.899858</td>\n",
       "      <td>90.0</td>\n",
       "      <td>196980.0</td>\n",
       "      <td>5946</td>\n",
       "      <td>123</td>\n",
       "      <td>1086</td>\n",
       "      <td>pearl jam</td>\n",
       "    </tr>\n",
       "    <tr>\n",
       "      <td>1370</td>\n",
       "      <td>1028125</td>\n",
       "      <td>Various Artists</td>\n",
       "      <td>63.223988</td>\n",
       "      <td>90.0</td>\n",
       "      <td>692.0</td>\n",
       "      <td>9168</td>\n",
       "      <td>7671</td>\n",
       "      <td>1371</td>\n",
       "      <td>various artists</td>\n",
       "    </tr>\n",
       "    <tr>\n",
       "      <td>1751</td>\n",
       "      <td>1041692</td>\n",
       "      <td>Common Rider</td>\n",
       "      <td>75.406780</td>\n",
       "      <td>90.0</td>\n",
       "      <td>177.0</td>\n",
       "      <td>2197</td>\n",
       "      <td>9507</td>\n",
       "      <td>1752</td>\n",
       "      <td>common rider</td>\n",
       "    </tr>\n",
       "  </tbody>\n",
       "</table>\n",
       "</div>"
      ],
      "text/plain": [
       "      artist_id            artist_name  mean_rating  median_rating  \\\n",
       "1027    1022226  Red Hot Chili Peppers    65.388488           90.0   \n",
       "1046    1019857          The Offspring    65.131460           90.0   \n",
       "1085    1020778              Pearl Jam    67.899858           90.0   \n",
       "1370    1028125        Various Artists    63.223988           90.0   \n",
       "1751    1041692           Common Rider    75.406780           90.0   \n",
       "\n",
       "      yahoo_rating_count  mean_rank  count_rank  median_rank  \\\n",
       "1027            573392.0       7579           3         1028   \n",
       "1046            360909.0       7716          35         1047   \n",
       "1085            196980.0       5946         123         1086   \n",
       "1370               692.0       9168        7671         1371   \n",
       "1751               177.0       2197        9507         1752   \n",
       "\n",
       "                     artist  \n",
       "1027  red hot chili peppers  \n",
       "1046          the offspring  \n",
       "1085              pearl jam  \n",
       "1370        various artists  \n",
       "1751           common rider  "
      ]
     },
     "execution_count": 51,
     "metadata": {},
     "output_type": "execute_result"
    }
   ],
   "source": [
    "graph_artists.head()"
   ]
  },
  {
   "cell_type": "code",
   "execution_count": 52,
   "metadata": {},
   "outputs": [
    {
     "data": {
      "image/png": "[encoded data removed]",
      "text/plain": [
       "<Figure size 1152x576 with 2 Axes>"
      ]
     },
     "metadata": {
      "needs_background": "light"
     },
     "output_type": "display_data"
    }
   ],
   "source": [
    "# compare the Yahoo! artist rating distribution of the artists in the playlist vs. the artists in the graph.\n",
    "\n",
    "fig, (ax1, ax2) = plt.subplots(1,2, sharey = 'all', figsize = (16,8))\n",
    "sns.distplot(playlist_artists['yahoo_rating_count'], kde = False,bins = 40, ax = ax1)\n",
    "sns.distplot(graph_artists['yahoo_rating_count'],kde = False, bins = 40, ax = ax2)\n",
    "ax1.set(title = 'Playlist Rating Count Distribution',\n",
    "       ylabel = 'Artist Count')\n",
    "ax2.set(title = 'Multigraph Rating Count Distribution')\n",
    "plt.show()"
   ]
  },
  {
   "cell_type": "code",
   "execution_count": 53,
   "metadata": {},
   "outputs": [
    {
     "data": {
      "image/png": "[encoded data removed]",
      "text/plain": [
       "<Figure size 1152x576 with 2 Axes>"
      ]
     },
     "metadata": {
      "needs_background": "light"
     },
     "output_type": "display_data"
    }
   ],
   "source": [
    "count_fig, (cf_ax1, cf_ax2) = plt.subplots(1,\n",
    "                                           2,\n",
    "                                           sharex = 'all',\n",
    "                                           sharey = 'all',\n",
    "                                           figsize = (16,8))\n",
    "sns.lineplot(x = 'count_rank',\n",
    "            y = 'yahoo_rating_count',\n",
    "            data = ratings,\n",
    "            ax = cf_ax1)\n",
    "\n",
    "sns.lineplot(x = 'count_rank',\n",
    "            y = 'yahoo_rating_count',\n",
    "            data = ratings,\n",
    "            ax = cf_ax2)\n",
    "\n",
    "sns.relplot(x = 'count_rank',\n",
    "            y = 'yahoo_rating_count',\n",
    "            data = playlist_artists,\n",
    "            color = 'r',\n",
    "            ax = cf_ax1)\n",
    "\n",
    "sns.relplot(x = 'count_rank',\n",
    "            y = 'yahoo_rating_count',\n",
    "            data = graph_artists,\n",
    "            color = 'r',\n",
    "            \n",
    "            ax = cf_ax2)\n",
    "\n",
    "cf_ax1.legend(['Yahoo! Count','Playlist'],\n",
    "             fontsize = 25,\n",
    "             facecolor = '0.75',  # grey face color\n",
    "             framealpha = .35)\n",
    "\n",
    "cf_ax2.legend(['Yahoo! Count','Multi-Graph'],\n",
    "             fontsize = 25,\n",
    "             facecolor = '0.75',  # grey face color\n",
    "             framealpha = .35)\n",
    "\n",
    "\n",
    "cf_ax1.set(xlabel = 'Rank',\n",
    "          ylabel = 'Stream Count',\n",
    "          title ='Graph - Playlist Rating Comparison')\n",
    "          #ylim = (0,250000))\n",
    "\n",
    "\n",
    "plt.close(2)\n",
    "plt.close(3)\n",
    "\n",
    "plt.show()"
   ]
  },
  {
   "cell_type": "code",
   "execution_count": 54,
   "metadata": {},
   "outputs": [
    {
     "name": "stdout",
     "output_type": "stream",
     "text": [
      "180  unique artists in the playlist\n",
      "128  artists from the playlist in the Yahoo! ratings data\n",
      "109  artists from the multigraph in the Yahoo! ratings data data\n"
     ]
    }
   ],
   "source": [
    "print(len(set(artists)),' unique artists in the playlist')\n",
    "print(len(playlist_artists), ' artists from the playlist in the Yahoo! ratings data')\n",
    "print(len(graph_artists), ' artists from the multigraph in the Yahoo! ratings data data')\n"
   ]
  },
  {
   "cell_type": "code",
   "execution_count": 58,
   "metadata": {},
   "outputs": [
    {
     "name": "stdout",
     "output_type": "stream",
     "text": [
      "311\n",
      "81\n"
     ]
    },
    {
     "data": {
      "image/png": "[encoded data removed]",
      "text/plain": [
       "<Figure size 432x288 with 1 Axes>"
      ]
     },
     "metadata": {
      "needs_background": "light"
     },
     "output_type": "display_data"
    },
    {
     "data": {
      "image/png": "[encoded data removed]",
      "text/plain": [
       "<Figure size 864x576 with 1 Axes>"
      ]
     },
     "metadata": {
      "needs_background": "light"
     },
     "output_type": "display_data"
    }
   ],
   "source": [
    "# playlist Tag distribution\n",
    "\n",
    "artists = playlist_artists['artist']\n",
    "\n",
    "tag_dist = {group:filtered_tags_dictionary[group] for group in artists if group\\\n",
    "            in filtered_tags_dictionary.keys()}\n",
    "\n",
    "tag_list = []\n",
    "\n",
    "for key, value in tag_dist.items():  # Build a list of all tags.\n",
    "    for tag in value:\n",
    "        tag_list.append(tag)\n",
    "\n",
    "print(len(tag_list))\n",
    "\n",
    "print(len(set(tag_list)))\n",
    "\n",
    "sns.countplot(tag_list)\n",
    "plt.show()\n",
    "\n",
    "new_tag_list = []\n",
    "\n",
    "tag_count = dict(Counter(tag_list))\n",
    "\n",
    "short_tag_list = [tag for tag in tag_count if tag_count[tag] >= 5]\n",
    "\n",
    "for key, value in tag_dist.items():  # build new list of tags that appear 15 or more times\n",
    "    for tag in value:\n",
    "        if tag in short_tag_list:\n",
    "            new_tag_list.append(tag)\n",
    "            \n",
    "new_tag_list = sorted(new_tag_list)  # Sorted so tags appear in alphabetical order once plotted.\n",
    "\n",
    "tag_fig, tag_ax = plt.subplots(figsize = (12,8))\n",
    "\n",
    "sns.countplot(y = new_tag_list,\n",
    "              ax = tag_ax)\n",
    "\n",
    "plt.show()"
   ]
  },
  {
   "cell_type": "code",
   "execution_count": 56,
   "metadata": {},
   "outputs": [
    {
     "data": {
      "text/plain": [
       "{'alternative rock': 6,\n",
       " 'hardcore punk': 11,\n",
       " 'new wave': 13,\n",
       " 'pop punk': 10,\n",
       " 'pop rock': 7,\n",
       " 'post-punk': 11,\n",
       " 'power pop': 6,\n",
       " 'punk': 86,\n",
       " 'punk rock': 29,\n",
       " 'rock': 25}"
      ]
     },
     "execution_count": 56,
     "metadata": {},
     "output_type": "execute_result"
    }
   ],
   "source": [
    "# turn the tag list into a dict of tag:count(tag)\n",
    "\n",
    "hist = {}\n",
    "for i in new_tag_list:\n",
    "    if i not in hist:\n",
    "        hist[i] = 1\n",
    "    else:\n",
    "        hist[i] += 1\n",
    "\n",
    "hist"
   ]
  },
  {
   "cell_type": "code",
   "execution_count": 57,
   "metadata": {},
   "outputs": [
    {
     "name": "stdout",
     "output_type": "stream",
     "text": [
      "diversity score = 306.3703129009909\n"
     ]
    }
   ],
   "source": [
    "total = 0\n",
    "\n",
    "for key, value in hist.items():\n",
    "    ent = value * np.log10(value)\n",
    "    total += ent\n",
    "    \n",
    "print('diversity score =', total)"
   ]
  },
  {
   "cell_type": "code",
   "execution_count": 59,
   "metadata": {},
   "outputs": [
    {
     "name": "stdout",
     "output_type": "stream",
     "text": [
      "295\n",
      "101\n"
     ]
    },
    {
     "data": {
      "image/png": "[encoded data removed]",
      "text/plain": [
       "<Figure size 432x288 with 1 Axes>"
      ]
     },
     "metadata": {
      "needs_background": "light"
     },
     "output_type": "display_data"
    },
    {
     "data": {
      "image/png": "[encoded data removed]",
      "text/plain": [
       "<Figure size 864x576 with 1 Axes>"
      ]
     },
     "metadata": {
      "needs_background": "light"
     },
     "output_type": "display_data"
    }
   ],
   "source": [
    "# graph Tag distribution\n",
    "\n",
    "artists = graph_artists['artist']\n",
    "\n",
    "tag_dist = {group:filtered_tags_dictionary[group] for group in artists if group\\\n",
    "            in filtered_tags_dictionary.keys()}\n",
    "\n",
    "tag_list = []\n",
    "\n",
    "for key, value in tag_dist.items():  # Build a list of all tags.\n",
    "    for tag in value:\n",
    "        tag_list.append(tag)\n",
    "\n",
    "print(len(tag_list))\n",
    "\n",
    "print(len(set(tag_list)))\n",
    "\n",
    "sns.countplot(tag_list)\n",
    "plt.show()\n",
    "\n",
    "new_tag_list = []\n",
    "\n",
    "tag_count = dict(Counter(tag_list))\n",
    "\n",
    "short_tag_list = [tag for tag in tag_count if tag_count[tag] >= 5]\n",
    "\n",
    "for key, value in tag_dist.items():  # build new list of tags that appear 15 or more times\n",
    "    for tag in value:\n",
    "        if tag in short_tag_list:\n",
    "            new_tag_list.append(tag)\n",
    "            \n",
    "new_tag_list = sorted(new_tag_list)  # Sorted so tags appear in alphabetical order once plotted.\n",
    "\n",
    "tag_fig, tag_ax = plt.subplots(figsize = (12,8))\n",
    "\n",
    "sns.countplot(y = new_tag_list,\n",
    "              ax = tag_ax)\n",
    "\n",
    "plt.show()"
   ]
  },
  {
   "cell_type": "code",
   "execution_count": 63,
   "metadata": {},
   "outputs": [
    {
     "name": "stdout",
     "output_type": "stream",
     "text": [
      "128\n",
      "109\n"
     ]
    }
   ],
   "source": [
    "test_artists = pd.DataFrame()\n",
    "pa  = list(playlist_artists['artist'])\n",
    "ga = list(graph_artists['artist'])\n",
    "print(len(pa))\n",
    "print(len(ga))"
   ]
  },
  {
   "cell_type": "code",
   "execution_count": 64,
   "metadata": {},
   "outputs": [
    {
     "name": "stdout",
     "output_type": "stream",
     "text": [
      "128\n",
      "128\n"
     ]
    },
    {
     "data": {
      "text/html": [
       "<div>\n",
       "<style scoped>\n",
       "    .dataframe tbody tr th:only-of-type {\n",
       "        vertical-align: middle;\n",
       "    }\n",
       "\n",
       "    .dataframe tbody tr th {\n",
       "        vertical-align: top;\n",
       "    }\n",
       "\n",
       "    .dataframe thead th {\n",
       "        text-align: right;\n",
       "    }\n",
       "</style>\n",
       "<table border=\"1\" class=\"dataframe\">\n",
       "  <thead>\n",
       "    <tr style=\"text-align: right;\">\n",
       "      <th></th>\n",
       "      <th>graph_artists</th>\n",
       "      <th>playlist_artists</th>\n",
       "    </tr>\n",
       "  </thead>\n",
       "  <tbody>\n",
       "    <tr>\n",
       "      <td>0</td>\n",
       "      <td>red hot chili peppers</td>\n",
       "      <td>various artists</td>\n",
       "    </tr>\n",
       "    <tr>\n",
       "      <td>1</td>\n",
       "      <td>the offspring</td>\n",
       "      <td>the boys</td>\n",
       "    </tr>\n",
       "    <tr>\n",
       "      <td>2</td>\n",
       "      <td>pearl jam</td>\n",
       "      <td>death</td>\n",
       "    </tr>\n",
       "    <tr>\n",
       "      <td>3</td>\n",
       "      <td>various artists</td>\n",
       "      <td>reagan youth</td>\n",
       "    </tr>\n",
       "    <tr>\n",
       "      <td>4</td>\n",
       "      <td>common rider</td>\n",
       "      <td>x</td>\n",
       "    </tr>\n",
       "    <tr>\n",
       "      <td>...</td>\n",
       "      <td>...</td>\n",
       "      <td>...</td>\n",
       "    </tr>\n",
       "    <tr>\n",
       "      <td>123</td>\n",
       "      <td>0</td>\n",
       "      <td>betty blowtorch</td>\n",
       "    </tr>\n",
       "    <tr>\n",
       "      <td>124</td>\n",
       "      <td>0</td>\n",
       "      <td>randy</td>\n",
       "    </tr>\n",
       "    <tr>\n",
       "      <td>125</td>\n",
       "      <td>0</td>\n",
       "      <td>the lurkers</td>\n",
       "    </tr>\n",
       "    <tr>\n",
       "      <td>126</td>\n",
       "      <td>0</td>\n",
       "      <td>u.s. bombs</td>\n",
       "    </tr>\n",
       "    <tr>\n",
       "      <td>127</td>\n",
       "      <td>0</td>\n",
       "      <td>the spits</td>\n",
       "    </tr>\n",
       "  </tbody>\n",
       "</table>\n",
       "<p>128 rows × 2 columns</p>\n",
       "</div>"
      ],
      "text/plain": [
       "             graph_artists playlist_artists\n",
       "0    red hot chili peppers  various artists\n",
       "1            the offspring         the boys\n",
       "2                pearl jam            death\n",
       "3          various artists     reagan youth\n",
       "4             common rider                x\n",
       "..                     ...              ...\n",
       "123                      0  betty blowtorch\n",
       "124                      0            randy\n",
       "125                      0      the lurkers\n",
       "126                      0       u.s. bombs\n",
       "127                      0        the spits\n",
       "\n",
       "[128 rows x 2 columns]"
      ]
     },
     "execution_count": 64,
     "metadata": {},
     "output_type": "execute_result"
    }
   ],
   "source": [
    "for i in np.arange(109,128,1):\n",
    "    ga.append(0)\n",
    "print(len(pa))\n",
    "print(len(ga))\n",
    "\n",
    "\n",
    "test_artists['graph_artists'] = ga\n",
    "test_artists['playlist_artists'] = pa\n",
    "\n",
    "test_artists\n",
    "\n",
    "#test_artists.to_csv('test_artists.csv')"
   ]
  },
  {
   "cell_type": "markdown",
   "metadata": {},
   "source": [
    "### Importing spotify popularity scores for all artists in the playlists and all artists in graphs "
   ]
  },
  {
   "cell_type": "code",
   "execution_count": 66,
   "metadata": {},
   "outputs": [
    {
     "data": {
      "text/html": [
       "<div>\n",
       "<style scoped>\n",
       "    .dataframe tbody tr th:only-of-type {\n",
       "        vertical-align: middle;\n",
       "    }\n",
       "\n",
       "    .dataframe tbody tr th {\n",
       "        vertical-align: top;\n",
       "    }\n",
       "\n",
       "    .dataframe thead th {\n",
       "        text-align: right;\n",
       "    }\n",
       "</style>\n",
       "<table border=\"1\" class=\"dataframe\">\n",
       "  <thead>\n",
       "    <tr style=\"text-align: right;\">\n",
       "      <th></th>\n",
       "      <th>Unnamed: 0</th>\n",
       "      <th>graph_artists</th>\n",
       "      <th>playlist_artists</th>\n",
       "      <th>graph_ID</th>\n",
       "      <th>graph_pop</th>\n",
       "      <th>playlist_ID</th>\n",
       "      <th>playlist_pop</th>\n",
       "    </tr>\n",
       "  </thead>\n",
       "  <tbody>\n",
       "    <tr>\n",
       "      <td>0</td>\n",
       "      <td>0</td>\n",
       "      <td>the beatles</td>\n",
       "      <td>stevie wonder</td>\n",
       "      <td>3WrFJ7ztbogyGnTHbHJFl2</td>\n",
       "      <td>89.0</td>\n",
       "      <td>7guDJrEfX3qb6FEbdPA5qi</td>\n",
       "      <td>79</td>\n",
       "    </tr>\n",
       "    <tr>\n",
       "      <td>1</td>\n",
       "      <td>1</td>\n",
       "      <td>the beach boys</td>\n",
       "      <td>the beatles</td>\n",
       "      <td>3oDbviiivRWhXwIE8hxkVV</td>\n",
       "      <td>75.0</td>\n",
       "      <td>3WrFJ7ztbogyGnTHbHJFl2</td>\n",
       "      <td>89</td>\n",
       "    </tr>\n",
       "    <tr>\n",
       "      <td>2</td>\n",
       "      <td>2</td>\n",
       "      <td>the nashville a-team</td>\n",
       "      <td>marvin gaye</td>\n",
       "      <td>0</td>\n",
       "      <td>0.0</td>\n",
       "      <td>3koiLjNrgRTNbOwViDipeA</td>\n",
       "      <td>76</td>\n",
       "    </tr>\n",
       "    <tr>\n",
       "      <td>3</td>\n",
       "      <td>3</td>\n",
       "      <td>jamiroquai</td>\n",
       "      <td>elton john</td>\n",
       "      <td>6J7biCazzYhU3gM9j1wfid</td>\n",
       "      <td>69.0</td>\n",
       "      <td>3PhoLpVuITZKcymswpck5b</td>\n",
       "      <td>84</td>\n",
       "    </tr>\n",
       "    <tr>\n",
       "      <td>4</td>\n",
       "      <td>4</td>\n",
       "      <td>coldplay</td>\n",
       "      <td>the rolling stones</td>\n",
       "      <td>4gzpq5DPGxSnKTe4SA8HAU</td>\n",
       "      <td>88.0</td>\n",
       "      <td>22bE4uQ6baNwSHPVcDxLCe</td>\n",
       "      <td>82</td>\n",
       "    </tr>\n",
       "  </tbody>\n",
       "</table>\n",
       "</div>"
      ],
      "text/plain": [
       "   Unnamed: 0         graph_artists    playlist_artists  \\\n",
       "0           0           the beatles       stevie wonder   \n",
       "1           1        the beach boys         the beatles   \n",
       "2           2  the nashville a-team         marvin gaye   \n",
       "3           3            jamiroquai          elton john   \n",
       "4           4              coldplay  the rolling stones   \n",
       "\n",
       "                 graph_ID  graph_pop             playlist_ID  playlist_pop  \n",
       "0  3WrFJ7ztbogyGnTHbHJFl2       89.0  7guDJrEfX3qb6FEbdPA5qi            79  \n",
       "1  3oDbviiivRWhXwIE8hxkVV       75.0  3WrFJ7ztbogyGnTHbHJFl2            89  \n",
       "2                       0        0.0  3koiLjNrgRTNbOwViDipeA            76  \n",
       "3  6J7biCazzYhU3gM9j1wfid       69.0  3PhoLpVuITZKcymswpck5b            84  \n",
       "4  4gzpq5DPGxSnKTe4SA8HAU       88.0  22bE4uQ6baNwSHPVcDxLCe            82  "
      ]
     },
     "execution_count": 66,
     "metadata": {},
     "output_type": "execute_result"
    }
   ],
   "source": [
    "spotscores = pd.read_csv('playlist_graph_artists_scores.csv')\n",
    "spotscores.head()"
   ]
  },
  {
   "cell_type": "code",
   "execution_count": 67,
   "metadata": {},
   "outputs": [
    {
     "data": {
      "image/png": "[encoded data removed]",
      "text/plain": [
       "<Figure size 1008x432 with 2 Axes>"
      ]
     },
     "metadata": {
      "needs_background": "light"
     },
     "output_type": "display_data"
    }
   ],
   "source": [
    "count_fig, (ax1, ax2) = plt.subplots(1,\n",
    "                                           2,\n",
    "                                           #sharex = 'all',\n",
    "                                           sharey = 'all',\n",
    "                                           figsize = (14,6))\n",
    "\n",
    "sns.distplot(spotscores['graph_pop'], bins = 15, ax = ax1)\n",
    "sns.distplot(spotscores['playlist_pop'], bins = 15, ax = ax2)\n",
    "ax1.set(xlabel = 'Spotify Popularity Score', ylabel = 'Density',title = 'Multigraph Artist Popularity Distribution')\n",
    "ax2.set(xlabel = 'Spotify Popularity Score', title = 'Playlist Artist Popularity Distribution')\n",
    "\n",
    "plt.show()"
   ]
  }
 ],
 "metadata": {
  "kernelspec": {
   "display_name": "Python 3",
   "language": "python",
   "name": "python3"
  },
  "language_info": {
   "codemirror_mode": {
    "name": "ipython",
    "version": 3
   },
   "file_extension": ".py",
   "mimetype": "text/x-python",
   "name": "python",
   "nbconvert_exporter": "python",
   "pygments_lexer": "ipython3",
   "version": "3.7.4"
  },
  "varInspector": {
   "cols": {
    "lenName": 16,
    "lenType": 16,
    "lenVar": 40
   },
   "kernels_config": {
    "python": {
     "delete_cmd_postfix": "",
     "delete_cmd_prefix": "del ",
     "library": "var_list.py",
     "varRefreshCmd": "print(var_dic_list())"
    },
    "r": {
     "delete_cmd_postfix": ") ",
     "delete_cmd_prefix": "rm(",
     "library": "var_list.r",
     "varRefreshCmd": "cat(var_dic_list()) "
    }
   },
   "position": {
    "height": "864.383px",
    "left": "1638.47px",
    "right": "20px",
    "top": "117px",
    "width": "482.3px"
   },
   "types_to_exclude": [
    "module",
    "function",
    "builtin_function_or_method",
    "instance",
    "_Feature"
   ],
   "window_display": true
  }
 },
 "nbformat": 4,
 "nbformat_minor": 2
}
